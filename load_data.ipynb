{
 "cells": [
  {
   "cell_type": "code",
   "execution_count": 101,
   "id": "initial_id",
   "metadata": {
    "ExecuteTime": {
     "end_time": "2024-02-28T17:36:28.201336Z",
     "start_time": "2024-02-28T17:36:28.186339Z"
    },
    "collapsed": true
   },
   "outputs": [],
   "source": [
    "import pandas as pd\n",
    "import glob\n",
    "import datetime\n",
    "from tqdm import tqdm\n",
    "import numpy as np\n",
    "import matplotlib.pyplot as plt\n",
    "import seaborn as sns\n",
    "from scipy.stats import t"
   ]
  },
  {
   "cell_type": "markdown",
   "id": "5c1f53f21c3ab8ea",
   "metadata": {},
   "source": []
  },
  {
   "cell_type": "code",
   "execution_count": 129,
   "id": "475978b584bdae09",
   "metadata": {
    "ExecuteTime": {
     "end_time": "2024-02-28T17:49:12.409983Z",
     "start_time": "2024-02-28T17:49:12.390941Z"
    }
   },
   "outputs": [
    {
     "data": {
      "text/plain": [
       "['C:\\\\Users\\\\felix\\\\PycharmProjects\\\\SnP\\\\data\\\\pyfinancialdata\\\\data\\\\stocks\\\\histdata\\\\GRXEUR\\\\DAT_ASCII_GRXEUR_M1_2010.csv',\n",
       " 'C:\\\\Users\\\\felix\\\\PycharmProjects\\\\SnP\\\\data\\\\pyfinancialdata\\\\data\\\\stocks\\\\histdata\\\\GRXEUR\\\\DAT_ASCII_GRXEUR_M1_2011.csv',\n",
       " 'C:\\\\Users\\\\felix\\\\PycharmProjects\\\\SnP\\\\data\\\\pyfinancialdata\\\\data\\\\stocks\\\\histdata\\\\GRXEUR\\\\DAT_ASCII_GRXEUR_M1_2012.csv',\n",
       " 'C:\\\\Users\\\\felix\\\\PycharmProjects\\\\SnP\\\\data\\\\pyfinancialdata\\\\data\\\\stocks\\\\histdata\\\\GRXEUR\\\\DAT_ASCII_GRXEUR_M1_2013.csv',\n",
       " 'C:\\\\Users\\\\felix\\\\PycharmProjects\\\\SnP\\\\data\\\\pyfinancialdata\\\\data\\\\stocks\\\\histdata\\\\GRXEUR\\\\DAT_ASCII_GRXEUR_M1_2014.csv',\n",
       " 'C:\\\\Users\\\\felix\\\\PycharmProjects\\\\SnP\\\\data\\\\pyfinancialdata\\\\data\\\\stocks\\\\histdata\\\\GRXEUR\\\\DAT_ASCII_GRXEUR_M1_2015.csv',\n",
       " 'C:\\\\Users\\\\felix\\\\PycharmProjects\\\\SnP\\\\data\\\\pyfinancialdata\\\\data\\\\stocks\\\\histdata\\\\GRXEUR\\\\DAT_ASCII_GRXEUR_M1_2016.csv',\n",
       " 'C:\\\\Users\\\\felix\\\\PycharmProjects\\\\SnP\\\\data\\\\pyfinancialdata\\\\data\\\\stocks\\\\histdata\\\\GRXEUR\\\\DAT_ASCII_GRXEUR_M1_2017.csv',\n",
       " 'C:\\\\Users\\\\felix\\\\PycharmProjects\\\\SnP\\\\data\\\\pyfinancialdata\\\\data\\\\stocks\\\\histdata\\\\GRXEUR\\\\DAT_ASCII_GRXEUR_M1_2018.csv']"
      ]
     },
     "execution_count": 129,
     "metadata": {},
     "output_type": "execute_result"
    }
   ],
   "source": [
    "# Read all data\n",
    "files = glob.glob(r'C:\\Users\\felix\\PycharmProjects\\SnP\\data\\pyfinancialdata\\data\\stocks\\histdata\\GRXEUR\\*.csv')\n",
    "files"
   ]
  },
  {
   "cell_type": "code",
   "execution_count": 132,
   "id": "6cec09997a4c66f4",
   "metadata": {
    "ExecuteTime": {
     "end_time": "2024-02-28T17:52:12.681741Z",
     "start_time": "2024-02-28T17:52:09.890803Z"
    }
   },
   "outputs": [
    {
     "data": {
      "text/html": [
       "<div>\n",
       "<style scoped>\n",
       "    .dataframe tbody tr th:only-of-type {\n",
       "        vertical-align: middle;\n",
       "    }\n",
       "\n",
       "    .dataframe tbody tr th {\n",
       "        vertical-align: top;\n",
       "    }\n",
       "\n",
       "    .dataframe thead th {\n",
       "        text-align: right;\n",
       "    }\n",
       "</style>\n",
       "<table border=\"1\" class=\"dataframe\">\n",
       "  <thead>\n",
       "    <tr style=\"text-align: right;\">\n",
       "      <th></th>\n",
       "      <th>0</th>\n",
       "      <th>1</th>\n",
       "      <th>2</th>\n",
       "      <th>3</th>\n",
       "      <th>4</th>\n",
       "      <th>5</th>\n",
       "      <th>minute_average</th>\n",
       "    </tr>\n",
       "  </thead>\n",
       "  <tbody>\n",
       "    <tr>\n",
       "      <th>0</th>\n",
       "      <td>2012-01-02 02:00:00</td>\n",
       "      <td>5895.50</td>\n",
       "      <td>5895.50</td>\n",
       "      <td>5895.50</td>\n",
       "      <td>5895.50</td>\n",
       "      <td>0</td>\n",
       "      <td>5895.500</td>\n",
       "    </tr>\n",
       "    <tr>\n",
       "      <th>1</th>\n",
       "      <td>2012-01-02 02:18:00</td>\n",
       "      <td>5894.75</td>\n",
       "      <td>5895.25</td>\n",
       "      <td>5893.75</td>\n",
       "      <td>5894.75</td>\n",
       "      <td>0</td>\n",
       "      <td>5894.750</td>\n",
       "    </tr>\n",
       "    <tr>\n",
       "      <th>2</th>\n",
       "      <td>2012-01-02 02:19:00</td>\n",
       "      <td>5894.50</td>\n",
       "      <td>5896.00</td>\n",
       "      <td>5893.50</td>\n",
       "      <td>5895.25</td>\n",
       "      <td>0</td>\n",
       "      <td>5894.875</td>\n",
       "    </tr>\n",
       "    <tr>\n",
       "      <th>3</th>\n",
       "      <td>2012-01-02 02:20:00</td>\n",
       "      <td>5895.50</td>\n",
       "      <td>5895.50</td>\n",
       "      <td>5892.00</td>\n",
       "      <td>5892.75</td>\n",
       "      <td>0</td>\n",
       "      <td>5894.125</td>\n",
       "    </tr>\n",
       "    <tr>\n",
       "      <th>4</th>\n",
       "      <td>2012-01-02 02:21:00</td>\n",
       "      <td>5892.25</td>\n",
       "      <td>5892.25</td>\n",
       "      <td>5891.25</td>\n",
       "      <td>5891.75</td>\n",
       "      <td>0</td>\n",
       "      <td>5892.000</td>\n",
       "    </tr>\n",
       "    <tr>\n",
       "      <th>...</th>\n",
       "      <td>...</td>\n",
       "      <td>...</td>\n",
       "      <td>...</td>\n",
       "      <td>...</td>\n",
       "      <td>...</td>\n",
       "      <td>...</td>\n",
       "      <td>...</td>\n",
       "    </tr>\n",
       "    <tr>\n",
       "      <th>213268</th>\n",
       "      <td>2018-12-28 16:09:00</td>\n",
       "      <td>10571.41</td>\n",
       "      <td>10573.61</td>\n",
       "      <td>10570.91</td>\n",
       "      <td>10572.01</td>\n",
       "      <td>0</td>\n",
       "      <td>10571.710</td>\n",
       "    </tr>\n",
       "    <tr>\n",
       "      <th>213269</th>\n",
       "      <td>2018-12-28 16:10:00</td>\n",
       "      <td>10570.91</td>\n",
       "      <td>10573.11</td>\n",
       "      <td>10565.41</td>\n",
       "      <td>10565.41</td>\n",
       "      <td>0</td>\n",
       "      <td>10568.160</td>\n",
       "    </tr>\n",
       "    <tr>\n",
       "      <th>213270</th>\n",
       "      <td>2018-12-28 16:11:00</td>\n",
       "      <td>10566.51</td>\n",
       "      <td>10566.51</td>\n",
       "      <td>10561.01</td>\n",
       "      <td>10566.51</td>\n",
       "      <td>0</td>\n",
       "      <td>10566.510</td>\n",
       "    </tr>\n",
       "    <tr>\n",
       "      <th>213271</th>\n",
       "      <td>2018-12-28 16:12:00</td>\n",
       "      <td>10565.41</td>\n",
       "      <td>10566.51</td>\n",
       "      <td>10564.31</td>\n",
       "      <td>10565.41</td>\n",
       "      <td>0</td>\n",
       "      <td>10565.410</td>\n",
       "    </tr>\n",
       "    <tr>\n",
       "      <th>213272</th>\n",
       "      <td>2018-12-28 16:13:00</td>\n",
       "      <td>10566.51</td>\n",
       "      <td>10573.11</td>\n",
       "      <td>10564.31</td>\n",
       "      <td>10567.61</td>\n",
       "      <td>0</td>\n",
       "      <td>10567.060</td>\n",
       "    </tr>\n",
       "  </tbody>\n",
       "</table>\n",
       "<p>1478233 rows × 7 columns</p>\n",
       "</div>"
      ],
      "text/plain": [
       "                         0         1         2         3         4  5  \\\n",
       "0      2012-01-02 02:00:00   5895.50   5895.50   5895.50   5895.50  0   \n",
       "1      2012-01-02 02:18:00   5894.75   5895.25   5893.75   5894.75  0   \n",
       "2      2012-01-02 02:19:00   5894.50   5896.00   5893.50   5895.25  0   \n",
       "3      2012-01-02 02:20:00   5895.50   5895.50   5892.00   5892.75  0   \n",
       "4      2012-01-02 02:21:00   5892.25   5892.25   5891.25   5891.75  0   \n",
       "...                    ...       ...       ...       ...       ... ..   \n",
       "213268 2018-12-28 16:09:00  10571.41  10573.61  10570.91  10572.01  0   \n",
       "213269 2018-12-28 16:10:00  10570.91  10573.11  10565.41  10565.41  0   \n",
       "213270 2018-12-28 16:11:00  10566.51  10566.51  10561.01  10566.51  0   \n",
       "213271 2018-12-28 16:12:00  10565.41  10566.51  10564.31  10565.41  0   \n",
       "213272 2018-12-28 16:13:00  10566.51  10573.11  10564.31  10567.61  0   \n",
       "\n",
       "        minute_average  \n",
       "0             5895.500  \n",
       "1             5894.750  \n",
       "2             5894.875  \n",
       "3             5894.125  \n",
       "4             5892.000  \n",
       "...                ...  \n",
       "213268       10571.710  \n",
       "213269       10568.160  \n",
       "213270       10566.510  \n",
       "213271       10565.410  \n",
       "213272       10567.060  \n",
       "\n",
       "[1478233 rows x 7 columns]"
      ]
     },
     "execution_count": 132,
     "metadata": {},
     "output_type": "execute_result"
    }
   ],
   "source": [
    "# read first file\n",
    "file_path = files.pop(0)\n",
    "df_file = pd.read_csv(file_path, sep=';', header=None)\n",
    "df_file[0] = pd.to_datetime(df_file[0])\n",
    "df_file['minute_average'] = (df_file[1] + df_file[4])/2\n",
    "\n",
    "for file_path in files:\n",
    "    _df_file = pd.read_csv(file_path, sep=';', header=None)\n",
    "    _df_file[0] = pd.to_datetime(_df_file[0])\n",
    "    _df_file['minute_average'] = (_df_file[1] + _df_file[4])/2\n",
    "    \n",
    "    df_file = pd.concat([df_file, _df_file])\n",
    "    \n",
    "df_file"
   ]
  },
  {
   "cell_type": "code",
   "execution_count": 26,
   "id": "6315ed67774ce964",
   "metadata": {
    "ExecuteTime": {
     "end_time": "2024-02-28T15:50:22.319143Z",
     "start_time": "2024-02-28T15:50:22.232140Z"
    }
   },
   "outputs": [
    {
     "data": {
      "text/html": [
       "<div>\n",
       "<style scoped>\n",
       "    .dataframe tbody tr th:only-of-type {\n",
       "        vertical-align: middle;\n",
       "    }\n",
       "\n",
       "    .dataframe tbody tr th {\n",
       "        vertical-align: top;\n",
       "    }\n",
       "\n",
       "    .dataframe thead th {\n",
       "        text-align: right;\n",
       "    }\n",
       "</style>\n",
       "<table border=\"1\" class=\"dataframe\">\n",
       "  <thead>\n",
       "    <tr style=\"text-align: right;\">\n",
       "      <th></th>\n",
       "      <th>0</th>\n",
       "      <th>1</th>\n",
       "      <th>2</th>\n",
       "      <th>3</th>\n",
       "      <th>4</th>\n",
       "      <th>5</th>\n",
       "      <th>minute_average</th>\n",
       "    </tr>\n",
       "  </thead>\n",
       "  <tbody>\n",
       "    <tr>\n",
       "      <th>0</th>\n",
       "      <td>2010-11-14 18:00:00</td>\n",
       "      <td>1195.50</td>\n",
       "      <td>1195.75</td>\n",
       "      <td>1195.50</td>\n",
       "      <td>1195.75</td>\n",
       "      <td>0</td>\n",
       "      <td>1195.625</td>\n",
       "    </tr>\n",
       "    <tr>\n",
       "      <th>1</th>\n",
       "      <td>2010-11-14 18:01:00</td>\n",
       "      <td>1195.50</td>\n",
       "      <td>1195.75</td>\n",
       "      <td>1195.50</td>\n",
       "      <td>1195.50</td>\n",
       "      <td>0</td>\n",
       "      <td>1195.500</td>\n",
       "    </tr>\n",
       "    <tr>\n",
       "      <th>2</th>\n",
       "      <td>2010-11-14 18:02:00</td>\n",
       "      <td>1195.25</td>\n",
       "      <td>1195.50</td>\n",
       "      <td>1195.00</td>\n",
       "      <td>1195.25</td>\n",
       "      <td>0</td>\n",
       "      <td>1195.250</td>\n",
       "    </tr>\n",
       "    <tr>\n",
       "      <th>3</th>\n",
       "      <td>2010-11-14 18:03:00</td>\n",
       "      <td>1195.50</td>\n",
       "      <td>1195.50</td>\n",
       "      <td>1195.50</td>\n",
       "      <td>1195.50</td>\n",
       "      <td>0</td>\n",
       "      <td>1195.500</td>\n",
       "    </tr>\n",
       "    <tr>\n",
       "      <th>4</th>\n",
       "      <td>2010-11-14 18:04:00</td>\n",
       "      <td>1195.75</td>\n",
       "      <td>1195.75</td>\n",
       "      <td>1195.50</td>\n",
       "      <td>1195.75</td>\n",
       "      <td>0</td>\n",
       "      <td>1195.750</td>\n",
       "    </tr>\n",
       "    <tr>\n",
       "      <th>...</th>\n",
       "      <td>...</td>\n",
       "      <td>...</td>\n",
       "      <td>...</td>\n",
       "      <td>...</td>\n",
       "      <td>...</td>\n",
       "      <td>...</td>\n",
       "      <td>...</td>\n",
       "    </tr>\n",
       "    <tr>\n",
       "      <th>29003</th>\n",
       "      <td>2010-12-31 14:51:00</td>\n",
       "      <td>1254.25</td>\n",
       "      <td>1254.25</td>\n",
       "      <td>1254.25</td>\n",
       "      <td>1254.25</td>\n",
       "      <td>0</td>\n",
       "      <td>1254.250</td>\n",
       "    </tr>\n",
       "    <tr>\n",
       "      <th>29004</th>\n",
       "      <td>2010-12-31 14:52:00</td>\n",
       "      <td>1254.00</td>\n",
       "      <td>1254.00</td>\n",
       "      <td>1254.00</td>\n",
       "      <td>1254.00</td>\n",
       "      <td>0</td>\n",
       "      <td>1254.000</td>\n",
       "    </tr>\n",
       "    <tr>\n",
       "      <th>29005</th>\n",
       "      <td>2010-12-31 14:53:00</td>\n",
       "      <td>1253.75</td>\n",
       "      <td>1254.00</td>\n",
       "      <td>1253.75</td>\n",
       "      <td>1253.75</td>\n",
       "      <td>0</td>\n",
       "      <td>1253.750</td>\n",
       "    </tr>\n",
       "    <tr>\n",
       "      <th>29006</th>\n",
       "      <td>2010-12-31 14:55:00</td>\n",
       "      <td>1254.00</td>\n",
       "      <td>1254.25</td>\n",
       "      <td>1253.75</td>\n",
       "      <td>1254.25</td>\n",
       "      <td>0</td>\n",
       "      <td>1254.125</td>\n",
       "    </tr>\n",
       "    <tr>\n",
       "      <th>29007</th>\n",
       "      <td>2010-12-31 14:57:00</td>\n",
       "      <td>1254.00</td>\n",
       "      <td>1254.25</td>\n",
       "      <td>1254.00</td>\n",
       "      <td>1254.25</td>\n",
       "      <td>0</td>\n",
       "      <td>1254.125</td>\n",
       "    </tr>\n",
       "  </tbody>\n",
       "</table>\n",
       "<p>29008 rows × 7 columns</p>\n",
       "</div>"
      ],
      "text/plain": [
       "                        0        1        2        3        4  5  \\\n",
       "0     2010-11-14 18:00:00  1195.50  1195.75  1195.50  1195.75  0   \n",
       "1     2010-11-14 18:01:00  1195.50  1195.75  1195.50  1195.50  0   \n",
       "2     2010-11-14 18:02:00  1195.25  1195.50  1195.00  1195.25  0   \n",
       "3     2010-11-14 18:03:00  1195.50  1195.50  1195.50  1195.50  0   \n",
       "4     2010-11-14 18:04:00  1195.75  1195.75  1195.50  1195.75  0   \n",
       "...                   ...      ...      ...      ...      ... ..   \n",
       "29003 2010-12-31 14:51:00  1254.25  1254.25  1254.25  1254.25  0   \n",
       "29004 2010-12-31 14:52:00  1254.00  1254.00  1254.00  1254.00  0   \n",
       "29005 2010-12-31 14:53:00  1253.75  1254.00  1253.75  1253.75  0   \n",
       "29006 2010-12-31 14:55:00  1254.00  1254.25  1253.75  1254.25  0   \n",
       "29007 2010-12-31 14:57:00  1254.00  1254.25  1254.00  1254.25  0   \n",
       "\n",
       "       minute_average  \n",
       "0            1195.625  \n",
       "1            1195.500  \n",
       "2            1195.250  \n",
       "3            1195.500  \n",
       "4            1195.750  \n",
       "...               ...  \n",
       "29003        1254.250  \n",
       "29004        1254.000  \n",
       "29005        1253.750  \n",
       "29006        1254.125  \n",
       "29007        1254.125  \n",
       "\n",
       "[29008 rows x 7 columns]"
      ]
     },
     "execution_count": 26,
     "metadata": {},
     "output_type": "execute_result"
    }
   ],
   "source": [
    "# 2010\n",
    "path_2010 = r'C:\\Users\\felix\\PycharmProjects\\SnP\\data\\pyfinancialdata\\data\\stocks\\histdata\\SPXUSD\\DAT_ASCII_SPXUSD_M1_2010.csv'\n",
    "df_2010 = pd.read_csv(path_2010, sep=';', header=None)\n",
    "# df_2010.index.name = 'date'\n",
    "df_2010[0] = pd.to_datetime(df_2010[0])\n",
    "df_2010['minute_average'] = (df_2010[1] + df_2010[4])/2\n",
    "df_2010.sort_index(inplace=True, axis=0)\n",
    "df_2010"
   ]
  },
  {
   "cell_type": "code",
   "execution_count": 133,
   "id": "dec66d4015d8e57",
   "metadata": {
    "ExecuteTime": {
     "end_time": "2024-02-28T17:52:31.065387Z",
     "start_time": "2024-02-28T17:52:31.046388Z"
    }
   },
   "outputs": [
    {
     "data": {
      "text/plain": [
       "(Timestamp('2012-01-02 02:00:00'), Timestamp('2018-12-28 16:13:00'))"
      ]
     },
     "execution_count": 133,
     "metadata": {},
     "output_type": "execute_result"
    }
   ],
   "source": [
    "df_file.iloc[0][0], df_file.iloc[-1][0]"
   ]
  },
  {
   "cell_type": "code",
   "execution_count": 134,
   "id": "46e6166a28394df",
   "metadata": {
    "ExecuteTime": {
     "end_time": "2024-02-28T17:52:56.890448Z",
     "start_time": "2024-02-28T17:52:56.884443Z"
    }
   },
   "outputs": [],
   "source": [
    "df_2010 = df_file"
   ]
  },
  {
   "cell_type": "code",
   "execution_count": 135,
   "id": "30d2b2114adb6e14",
   "metadata": {
    "ExecuteTime": {
     "end_time": "2024-02-28T17:56:33.759286Z",
     "start_time": "2024-02-28T17:53:01.907807Z"
    }
   },
   "outputs": [
    {
     "name": "stderr",
     "output_type": "stream",
     "text": [
      "100%|██████████| 1478233/1478233 [03:31<00:00, 6978.18it/s]\n"
     ]
    }
   ],
   "source": [
    "# 20101114 180300\n",
    "days = []\n",
    "time_start = df_2010.iloc[0][0]\n",
    "\n",
    "current_time = time_start\n",
    "next_time = time_start + datetime.timedelta(hours=24)\n",
    "\n",
    "prices = []\n",
    "current_index = 0\n",
    "for i in tqdm(range(len(df_2010)), total=len(df_2010)):\n",
    "    if df_2010.iloc[i][0] >= next_time:\n",
    "        # days.append(prices)\n",
    "        days.append(df_2010.iloc[current_index:i])\n",
    "        # prices = []\n",
    "        next_time = next_time + datetime.timedelta(hours=24)\n",
    "        current_index = i\n",
    "    # else:\n",
    "        # prices.append(df_2010.iloc[i]['minute_average'].item())   \n",
    "    "
   ]
  },
  {
   "cell_type": "code",
   "execution_count": 146,
   "id": "312fc7d2fa03c1f9",
   "metadata": {
    "ExecuteTime": {
     "end_time": "2024-02-28T18:00:49.996942Z",
     "start_time": "2024-02-28T18:00:41.714431Z"
    }
   },
   "outputs": [
    {
     "name": "stderr",
     "output_type": "stream",
     "text": [
      "100%|██████████| 2552/2552 [00:08<00:00, 308.94it/s]\n"
     ]
    }
   ],
   "source": [
    "# create the cutpoints\n",
    "means = []\n",
    "for day_data in tqdm(days, total=len(days)):\n",
    "    # print(day_data.head())\n",
    "    time_start = day_data.iloc[0][0]\n",
    "    \n",
    "    # print(time_start)\n",
    "    \n",
    "    # Get the date of the next day\n",
    "    next_day = time_start + datetime.timedelta(days=1)\n",
    "    next_day_date = next_day.date()\n",
    "    \n",
    "    # Combine the date of the next day with the time 12:00\n",
    "    next_day_12 = datetime.datetime.combine(time_start.date(), datetime.time(minute=30)) + datetime.timedelta(hours=13)\n",
    "    # print(next_day_12)\n",
    "    \n",
    "    # only keep the data after 12:00\n",
    "    data_after_12 = day_data[day_data[0] > next_day_12]\n",
    "    \n",
    "    # data after 14:30\n",
    "    next_day_14 = datetime.datetime.combine(time_start.date(), datetime.time(minute=30)) + datetime.timedelta(hours=14)\n",
    "    data_after_12 = data_after_12[data_after_12[0] < next_day_14]\n",
    "    data_after_14_30 = day_data[day_data[0] > next_day_14]\n",
    "\n",
    "    next_day_15 = datetime.datetime.combine(time_start.date(), datetime.time(minute=30)) + datetime.timedelta(hours=15)\n",
    "    data_after_14_30 = data_after_14_30[data_after_14_30[0] < next_day_15]\n",
    "    data_after_15_30 = day_data[day_data[0] > next_day_15]\n",
    "    \n",
    "    next_day_16 = datetime.datetime.combine(time_start.date(), datetime.time(minute=30)) + datetime.timedelta(hours=16)\n",
    "    data_after_15_30 = data_after_15_30[data_after_15_30[0] < next_day_16]\n",
    "    \n",
    "    average_before = data_after_12['minute_average'].mean()\n",
    "    average_14 = data_after_14_30['minute_average'].mean()\n",
    "    average_15 = data_after_15_30['minute_average'].mean()\n",
    "    \n",
    "    # print(average_before, average_14, average_15)\n",
    "    # break\n",
    "    if float('nan') not in [average_before, average_14, average_15] and np.nan not in [average_before, average_14, average_15]:\n",
    "        means.append((average_before, average_14, average_15))"
   ]
  },
  {
   "cell_type": "code",
   "execution_count": null,
   "id": "25088b021b0e052b",
   "metadata": {
    "ExecuteTime": {
     "end_time": "2024-02-28T18:00:51.757090Z",
     "start_time": "2024-02-28T18:00:51.717049Z"
    }
   },
   "outputs": [],
   "source": []
  },
  {
   "cell_type": "code",
   "execution_count": 148,
   "id": "9c543fa2d14f7c6b",
   "metadata": {
    "ExecuteTime": {
     "end_time": "2024-02-28T18:00:54.633534Z",
     "start_time": "2024-02-28T18:00:54.624503Z"
    }
   },
   "outputs": [],
   "source": [
    "# compute difference in means\n",
    "df = pd.DataFrame(means)\n",
    "df.columns = ['12', '14', '15']\n",
    "\n",
    "df['delta_14'] = df['14'] - df['12']\n",
    "df['delta_15'] = df['15'] - df['14']\n",
    "df['delta_15_12'] = df['15'] - df['12']"
   ]
  },
  {
   "cell_type": "code",
   "execution_count": 155,
   "id": "f81d7382b1b331a0",
   "metadata": {
    "ExecuteTime": {
     "end_time": "2024-02-28T18:01:57.998912Z",
     "start_time": "2024-02-28T18:01:57.740882Z"
    }
   },
   "outputs": [
    {
     "data": {
      "text/plain": [
       "<AxesSubplot:ylabel='delta_14'>"
      ]
     },
     "execution_count": 155,
     "metadata": {},
     "output_type": "execute_result"
    },
    {
     "data": {
      "image/png": "[encoded data removed]",
      "text/plain": [
       "<Figure size 720x720 with 1 Axes>"
      ]
     },
     "metadata": {},
     "output_type": "display_data"
    }
   ],
   "source": [
    "fig, ax = plt.subplots(1, 1, figsize=(10, 10))\n",
    "# sns.lineplot(df, x=df.index, y='12', ax=ax, label='12')\n",
    "# sns.lineplot(df, x=df.index, y='14', ax=ax, label='14')\n",
    "# sns.lineplot(df, x=df.index, y='15', ax=ax, label='15')\n",
    "sns.lineplot(df, x=df.index, y='delta_14', ax=ax, label='14 to 12')\n",
    "sns.lineplot(df, x=df.index, y='delta_15', ax=ax, label='15 to 14')\n",
    "sns.lineplot(df, x=df.index, y='delta_15_12', ax=ax, label='15 to 12')"
   ]
  },
  {
   "cell_type": "code",
   "execution_count": 156,
   "id": "3efd83a600204f8",
   "metadata": {
    "ExecuteTime": {
     "end_time": "2024-02-28T18:02:09.578734Z",
     "start_time": "2024-02-28T18:02:09.546734Z"
    }
   },
   "outputs": [
    {
     "name": "stderr",
     "output_type": "stream",
     "text": [
      "C:\\Users\\felix\\AppData\\Local\\Temp\\ipykernel_7148\\327408868.py:4: SettingWithCopyWarning: \n",
      "A value is trying to be set on a copy of a slice from a DataFrame\n",
      "\n",
      "See the caveats in the documentation: https://pandas.pydata.org/pandas-docs/stable/user_guide/indexing.html#returning-a-view-versus-a-copy\n",
      "  df['positive'][df['average_post_intervention'] >= 0] = True\n"
     ]
    },
    {
     "data": {
      "text/html": [
       "<div>\n",
       "<style scoped>\n",
       "    .dataframe tbody tr th:only-of-type {\n",
       "        vertical-align: middle;\n",
       "    }\n",
       "\n",
       "    .dataframe tbody tr th {\n",
       "        vertical-align: top;\n",
       "    }\n",
       "\n",
       "    .dataframe thead th {\n",
       "        text-align: right;\n",
       "    }\n",
       "</style>\n",
       "<table border=\"1\" class=\"dataframe\">\n",
       "  <thead>\n",
       "    <tr style=\"text-align: right;\">\n",
       "      <th></th>\n",
       "      <th>12</th>\n",
       "      <th>14</th>\n",
       "      <th>15</th>\n",
       "      <th>delta_14</th>\n",
       "      <th>delta_15</th>\n",
       "      <th>delta_15_12</th>\n",
       "      <th>average_post_intervention</th>\n",
       "      <th>positive</th>\n",
       "    </tr>\n",
       "  </thead>\n",
       "  <tbody>\n",
       "    <tr>\n",
       "      <th>0</th>\n",
       "      <td>6065.670455</td>\n",
       "      <td>6064.932692</td>\n",
       "      <td>6061.983696</td>\n",
       "      <td>-0.737762</td>\n",
       "      <td>-2.948997</td>\n",
       "      <td>-3.686759</td>\n",
       "      <td>2.212261</td>\n",
       "      <td>True</td>\n",
       "    </tr>\n",
       "    <tr>\n",
       "      <th>1</th>\n",
       "      <td>6156.010593</td>\n",
       "      <td>6161.125000</td>\n",
       "      <td>6159.599138</td>\n",
       "      <td>5.114407</td>\n",
       "      <td>-1.525862</td>\n",
       "      <td>3.588545</td>\n",
       "      <td>-4.351476</td>\n",
       "      <td>False</td>\n",
       "    </tr>\n",
       "    <tr>\n",
       "      <th>2</th>\n",
       "      <td>6131.241525</td>\n",
       "      <td>6131.146186</td>\n",
       "      <td>6130.556034</td>\n",
       "      <td>-0.095339</td>\n",
       "      <td>-0.590152</td>\n",
       "      <td>-0.685491</td>\n",
       "      <td>0.390415</td>\n",
       "      <td>True</td>\n",
       "    </tr>\n",
       "    <tr>\n",
       "      <th>3</th>\n",
       "      <td>6133.529661</td>\n",
       "      <td>6127.750000</td>\n",
       "      <td>6126.586207</td>\n",
       "      <td>-5.779661</td>\n",
       "      <td>-1.163793</td>\n",
       "      <td>-6.943454</td>\n",
       "      <td>6.361558</td>\n",
       "      <td>True</td>\n",
       "    </tr>\n",
       "    <tr>\n",
       "      <th>4</th>\n",
       "      <td>6057.309322</td>\n",
       "      <td>6057.385593</td>\n",
       "      <td>6052.875000</td>\n",
       "      <td>0.076271</td>\n",
       "      <td>-4.510593</td>\n",
       "      <td>-4.434322</td>\n",
       "      <td>2.179025</td>\n",
       "      <td>True</td>\n",
       "    </tr>\n",
       "    <tr>\n",
       "      <th>...</th>\n",
       "      <td>...</td>\n",
       "      <td>...</td>\n",
       "      <td>...</td>\n",
       "      <td>...</td>\n",
       "      <td>...</td>\n",
       "      <td>...</td>\n",
       "      <td>...</td>\n",
       "      <td>...</td>\n",
       "    </tr>\n",
       "    <tr>\n",
       "      <th>1755</th>\n",
       "      <td>10769.489661</td>\n",
       "      <td>10747.603051</td>\n",
       "      <td>10755.047500</td>\n",
       "      <td>-21.886610</td>\n",
       "      <td>7.444449</td>\n",
       "      <td>-14.442161</td>\n",
       "      <td>18.164386</td>\n",
       "      <td>True</td>\n",
       "    </tr>\n",
       "    <tr>\n",
       "      <th>1756</th>\n",
       "      <td>10778.386102</td>\n",
       "      <td>10690.834576</td>\n",
       "      <td>10648.502045</td>\n",
       "      <td>-87.551525</td>\n",
       "      <td>-42.332531</td>\n",
       "      <td>-129.884056</td>\n",
       "      <td>108.717791</td>\n",
       "      <td>True</td>\n",
       "    </tr>\n",
       "    <tr>\n",
       "      <th>1757</th>\n",
       "      <td>10525.074237</td>\n",
       "      <td>10539.593559</td>\n",
       "      <td>10548.297500</td>\n",
       "      <td>14.519322</td>\n",
       "      <td>8.703941</td>\n",
       "      <td>23.223263</td>\n",
       "      <td>-18.871292</td>\n",
       "      <td>False</td>\n",
       "    </tr>\n",
       "    <tr>\n",
       "      <th>1758</th>\n",
       "      <td>10576.241017</td>\n",
       "      <td>10555.353220</td>\n",
       "      <td>10516.274773</td>\n",
       "      <td>-20.887797</td>\n",
       "      <td>-39.078448</td>\n",
       "      <td>-59.966244</td>\n",
       "      <td>40.427020</td>\n",
       "      <td>True</td>\n",
       "    </tr>\n",
       "    <tr>\n",
       "      <th>1759</th>\n",
       "      <td>10315.171017</td>\n",
       "      <td>10355.578644</td>\n",
       "      <td>10455.720227</td>\n",
       "      <td>40.407627</td>\n",
       "      <td>100.141583</td>\n",
       "      <td>140.549210</td>\n",
       "      <td>-90.478419</td>\n",
       "      <td>False</td>\n",
       "    </tr>\n",
       "  </tbody>\n",
       "</table>\n",
       "<p>1760 rows × 8 columns</p>\n",
       "</div>"
      ],
      "text/plain": [
       "                12            14            15   delta_14    delta_15  \\\n",
       "0      6065.670455   6064.932692   6061.983696  -0.737762   -2.948997   \n",
       "1      6156.010593   6161.125000   6159.599138   5.114407   -1.525862   \n",
       "2      6131.241525   6131.146186   6130.556034  -0.095339   -0.590152   \n",
       "3      6133.529661   6127.750000   6126.586207  -5.779661   -1.163793   \n",
       "4      6057.309322   6057.385593   6052.875000   0.076271   -4.510593   \n",
       "...            ...           ...           ...        ...         ...   \n",
       "1755  10769.489661  10747.603051  10755.047500 -21.886610    7.444449   \n",
       "1756  10778.386102  10690.834576  10648.502045 -87.551525  -42.332531   \n",
       "1757  10525.074237  10539.593559  10548.297500  14.519322    8.703941   \n",
       "1758  10576.241017  10555.353220  10516.274773 -20.887797  -39.078448   \n",
       "1759  10315.171017  10355.578644  10455.720227  40.407627  100.141583   \n",
       "\n",
       "      delta_15_12  average_post_intervention  positive  \n",
       "0       -3.686759                   2.212261      True  \n",
       "1        3.588545                  -4.351476     False  \n",
       "2       -0.685491                   0.390415      True  \n",
       "3       -6.943454                   6.361558      True  \n",
       "4       -4.434322                   2.179025      True  \n",
       "...           ...                        ...       ...  \n",
       "1755   -14.442161                  18.164386      True  \n",
       "1756  -129.884056                 108.717791      True  \n",
       "1757    23.223263                 -18.871292     False  \n",
       "1758   -59.966244                  40.427020      True  \n",
       "1759   140.549210                 -90.478419     False  \n",
       "\n",
       "[1760 rows x 8 columns]"
      ]
     },
     "execution_count": 156,
     "metadata": {},
     "output_type": "execute_result"
    }
   ],
   "source": [
    "# \n",
    "df['average_post_intervention'] = df['12'] - 0.5*(df['14'] + df['15'])\n",
    "df['positive'] = False\n",
    "df['positive'][df['average_post_intervention'] >= 0] = True\n",
    "\n",
    "df"
   ]
  },
  {
   "cell_type": "code",
   "execution_count": 157,
   "id": "f1428b0beababab8",
   "metadata": {
    "ExecuteTime": {
     "end_time": "2024-02-28T18:02:14.988682Z",
     "start_time": "2024-02-28T18:02:14.983651Z"
    }
   },
   "outputs": [],
   "source": [
    "df_positive = df[df['positive'] == True]\n",
    "df_negative = df[df['positive'] == False]"
   ]
  },
  {
   "cell_type": "markdown",
   "id": "3ac3bbee6d7249f",
   "metadata": {},
   "source": [
    "H_0: μ_X − μ_Y = 0"
   ]
  },
  {
   "cell_type": "markdown",
   "id": "a3f94caeda1c29c6",
   "metadata": {},
   "source": [
    "## Negative"
   ]
  },
  {
   "cell_type": "code",
   "execution_count": 168,
   "id": "1a263c54d0bb51df",
   "metadata": {
    "ExecuteTime": {
     "end_time": "2024-02-28T18:12:03.540809Z",
     "start_time": "2024-02-28T18:12:03.520807Z"
    }
   },
   "outputs": [
    {
     "name": "stdout",
     "output_type": "stream",
     "text": [
      "relative values - Negative News\n",
      "degree of Freedom: 1972\n",
      "\n",
      "Mu 𝞓(14:30-13:30) = 0\n",
      "t: 0.002156234285126481\n",
      "\n",
      "Mu 𝞓(15:30-14:30) = 0\n",
      "t: 0.001252458833373733\n",
      "\n",
      "Mu 𝞓(15:30-13:30) = 0\n",
      "t: 0.0014289580209033274\n"
     ]
    }
   ],
   "source": [
    "print('relative values - Negative News')\n",
    "# estimating global variance\n",
    "# global_variance = df_negative[['12', '14', '15']].values.reshape(-1).var()\n",
    "global_variance = df_negative[['delta_14']].values.reshape(-1).var()\n",
    "global_variance2 = df_negative[['delta_15']].values.reshape(-1).var()\n",
    "global_variance3 = df_negative[['delta_15_12']].values.reshape(-1).var()\n",
    "# global_expectation = df_negative[['12', '14', '15']].values.reshape(-1).mean()\n",
    "dof = 2*len(df_negative) - 2\n",
    "print('degree of Freedom:', dof)\n",
    "\n",
    "mean_12 = df_negative['delta_14'].mean()\n",
    "mean_14 = df_negative['delta_15'].mean()\n",
    "mean_15 = df_negative['delta_15_12'].mean()\n",
    "# mean_15 = df_negative['15'].mean()\n",
    "\n",
    "t = (mean_12 - 0) / (global_variance * np.sqrt(len(df_negative)))\n",
    "print('')\n",
    "print('Mu 𝞓(14:30-13:30) = 0')\n",
    "print('t:', t)\n",
    "t = (mean_14 - 0) / (global_variance2 * np.sqrt(len(df_negative)))\n",
    "print('')\n",
    "print('Mu 𝞓(15:30-14:30) = 0')\n",
    "print('t:', t)\n",
    "print('')\n",
    "t = (mean_15 - 0) / (global_variance3 * np.sqrt(len(df_negative)))\n",
    "print('Mu 𝞓(15:30-13:30) = 0')\n",
    "print('t:', t)\n",
    "print('')"
   ]
  },
  {
   "cell_type": "code",
   "execution_count": 172,
   "id": "3c4f42f69265becd",
   "metadata": {
    "ExecuteTime": {
     "end_time": "2024-02-28T18:12:55.361587Z",
     "start_time": "2024-02-28T18:12:55.341588Z"
    }
   },
   "outputs": [
    {
     "name": "stdout",
     "output_type": "stream",
     "text": [
      "dof: 1972\n",
      "Mu 14:30 = Mu 13:30\n",
      "t = -0.001068137577498917\n",
      "\n",
      "Mu 15:30 = Mu 13:30\n",
      "t = -0.0018055627178603215\n",
      "\n",
      "Mu 15:30 = Mu 14:30\n",
      "t = -0.0007374251403614045\n"
     ]
    }
   ],
   "source": [
    "# estimating global variance\n",
    "global_variance = df_negative[['12', '14', '15']].values.reshape(-1).var()\n",
    "# global_variance = df_negative[['delta_14', 'delta_15']].values.reshape(-1).var()\n",
    "# global_expectation = df_negative[['12', '14', '15']].values.reshape(-1).mean()\n",
    "dof = 2*len(df_negative) - 2\n",
    "print('dof:', dof)\n",
    "\n",
    "mean_12 = df_negative['12'].mean()\n",
    "mean_14 = df_negative['14'].mean()\n",
    "mean_15 = df_negative['15'].mean()\n",
    "\n",
    "t_14_12 = (mean_12 - mean_14 - 0) / (global_variance * (2/len(df_negative)))\n",
    "print('Mu 14:30 = Mu 13:30')\n",
    "print('t =', t_14_12)\n",
    "# print('p_value:', 2*(1 - t.cdf(abs(t_14_12), dof)))\n",
    "print('')\n",
    "\n",
    "t_15_12 = (mean_12 - mean_15 - 0) / (global_variance * (2/len(df_negative)))\n",
    "print('Mu 15:30 = Mu 13:30')\n",
    "print('t =', t_15_12)\n",
    "# print('p_value:', 2*(1 - t.cdf(abs(t_15_12), dof)))\n",
    "print('')\n",
    "\n",
    "t_15_14 = (mean_14 - mean_15 - 0) / (global_variance * (2/len(df_negative)))\n",
    "print('Mu 15:30 = Mu 14:30')\n",
    "print('t =', t_15_14)\n",
    "# print('p_value:', 2*(1 - t.cdf(abs(t_15_14), dof)))\n",
    "print('')"
   ]
  },
  {
   "cell_type": "markdown",
   "id": "2eda2bc592a79f87",
   "metadata": {},
   "source": [
    "## Positive"
   ]
  },
  {
   "cell_type": "code",
   "execution_count": 173,
   "id": "bc2c699c483fa7e2",
   "metadata": {
    "ExecuteTime": {
     "end_time": "2024-02-28T18:12:58.150979Z",
     "start_time": "2024-02-28T18:12:58.125941Z"
    }
   },
   "outputs": [
    {
     "name": "stdout",
     "output_type": "stream",
     "text": [
      "relative values - Positive News\n",
      "degree of Freedom: 1544\n",
      "\n",
      "Mu 𝞓(14:30-13:30) = 0\n",
      "t: -0.001836458282648327\n",
      "\n",
      "Mu 𝞓(15:30-14:30) = 0\n",
      "t: -0.0007966471929914725\n",
      "\n",
      "Mu 𝞓(15:30-13:30) = 0\n",
      "t: -0.001092008777362991\n"
     ]
    }
   ],
   "source": [
    "print('relative values - Positive News')\n",
    "# estimating global variance\n",
    "# global_variance = df_negative[['12', '14', '15']].values.reshape(-1).var()\n",
    "global_variance = df_positive[['delta_14']].values.reshape(-1).var()\n",
    "global_variance2 = df_positive[['delta_15']].values.reshape(-1).var()\n",
    "global_variance3 = df_positive[['delta_15_12']].values.reshape(-1).var()\n",
    "# global_expectation = df_negative[['12', '14', '15']].values.reshape(-1).mean()\n",
    "dof = 2*len(df_positive) - 2\n",
    "print('degree of Freedom:', dof)\n",
    "\n",
    "mean_12 = df_positive['delta_14'].mean()\n",
    "mean_14 = df_positive['delta_15'].mean()\n",
    "mean_15 = df_positive['delta_15_12'].mean()\n",
    "# mean_15 = df_negative['15'].mean()\n",
    "\n",
    "t = (mean_12 - 0) / (global_variance * np.sqrt(len(df_positive)))\n",
    "print('')\n",
    "print('Mu 𝞓(14:30-13:30) = 0')\n",
    "print('t:', t)\n",
    "t = (mean_14 - 0) / (global_variance2 * np.sqrt(len(df_positive)))\n",
    "print('')\n",
    "print('Mu 𝞓(15:30-14:30) = 0')\n",
    "print('t:', t)\n",
    "print('')\n",
    "t = (mean_15 - 0) / (global_variance3 * np.sqrt(len(df_positive)))\n",
    "print('Mu 𝞓(15:30-13:30) = 0')\n",
    "print('t:', t)\n",
    "print('')"
   ]
  },
  {
   "cell_type": "code",
   "execution_count": 174,
   "id": "2c83fec25a7cb1c0",
   "metadata": {
    "ExecuteTime": {
     "end_time": "2024-02-28T18:13:05.073986Z",
     "start_time": "2024-02-28T18:13:05.050986Z"
    }
   },
   "outputs": [
    {
     "name": "stdout",
     "output_type": "stream",
     "text": [
      "dof: 1544\n",
      "Mu 14:30 = Mu 13:30\n",
      "t = 0.0009042719603236996\n",
      "\n",
      "Mu 15:30 = Mu 13:30\n",
      "t = 0.0013825644837252222\n",
      "\n",
      "Mu 15:30 = Mu 14:30\n",
      "t = 0.0004782925234015227\n"
     ]
    }
   ],
   "source": [
    "# estimating global variance\n",
    "global_variance = df_positive[['12', '14', '15']].values.reshape(-1).var()\n",
    "# global_expectation = df_negative[['12', '14', '15']].values.reshape(-1).mean()\n",
    "dof = 2*len(df_positive) - 2\n",
    "print('dof:', dof)\n",
    "\n",
    "mean_12 = df_positive['12'].mean()\n",
    "mean_14 = df_positive['14'].mean()\n",
    "mean_15 = df_positive['15'].mean()\n",
    "\n",
    "t_14_12 = (mean_12 - mean_14 - 0) / (global_variance * (2/len(df_positive)))\n",
    "print('Mu 14:30 = Mu 13:30')\n",
    "print('t =', t_14_12)\n",
    "# print('p_value:', 2*(1 - t.cdf(abs(t_14_12), dof)))\n",
    "print('')\n",
    "\n",
    "t_15_12 = (mean_12 - mean_15 - 0) / (global_variance * (2/len(df_positive)))\n",
    "print('Mu 15:30 = Mu 13:30')\n",
    "print('t =', t_15_12)\n",
    "# print('p_value:', 2*(1 - t.cdf(abs(t_15_12), dof)))\n",
    "print('')\n",
    "\n",
    "t_15_14 = (mean_14 - mean_15 - 0) / (global_variance * (2/len(df_positive)))\n",
    "print('Mu 15:30 = Mu 14:30')\n",
    "print('t =', t_15_14)\n",
    "# print('p_value:', 2*(1 - t.cdf(abs(t_15_14), dof)))\n",
    "print('')\n"
   ]
  }
 ],
 "metadata": {
  "kernelspec": {
   "display_name": "Python 3 (ipykernel)",
   "language": "python",
   "name": "python3"
  },
  "language_info": {
   "codemirror_mode": {
    "name": "ipython",
    "version": 3
   },
   "file_extension": ".py",
   "mimetype": "text/x-python",
   "name": "python",
   "nbconvert_exporter": "python",
   "pygments_lexer": "ipython3",
   "version": "3.9.12"
  }
 },
 "nbformat": 4,
 "nbformat_minor": 5
}
